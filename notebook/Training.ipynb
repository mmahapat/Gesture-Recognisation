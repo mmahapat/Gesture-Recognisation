{
 "cells": [
  {
   "cell_type": "code",
   "execution_count": 3,
   "metadata": {},
   "outputs": [
    {
     "name": "stdout",
     "output_type": "stream",
     "text": [
      " 100.00% 'buy' completed d \n",
      " 100.00% 'communicate' completed d \n",
      " 100.00% 'fun' completed d \n",
      " 100.00% 'hope' completed d \n",
      " 100.00% 'mother' completed d \n",
      " 100.00% 'really' completed d \n",
      "\n",
      "Applying PCA\n",
      "Applied PCA\n",
      "Preparing the test data\n",
      "Test data prepared. Go ahead and train you model\n"
     ]
    }
   ],
   "source": [
    "import pickle\n",
    "import os\n",
    "import numpy\n",
    "from sklearn import decomposition\n",
    "from sklearn import preprocessing\n",
    "import pandas as pd\n",
    "from sklearn import model_selection\n",
    "from sklearn.linear_model import LogisticRegression\n",
    "from sklearn import metrics\n",
    "from sklearn.neighbors import KNeighborsClassifier\n",
    "from sklearn.ensemble import RandomForestClassifier\n",
    "\n",
    "master_path = '../CSV'\n",
    "categories = next(os.walk(master_path))[1]\n",
    "categories.sort()\n",
    "labels = numpy.empty((0, 0))\n",
    "column_to_drop = [\"Frames#\", \"score_overall\", \"nose_score\", \"leftEye_score\", \"rightEye_score\", \"leftEar_score\",\n",
    "                  \"rightEar_score\",\n",
    "                  \"leftShoulder_score\", \"rightShoulder_score\", \"leftElbow_score\", \"rightElbow_score\", \"leftWrist_score\",\n",
    "                  \"rightWrist_score\", \"leftHip_score\", \"rightHip_score\", \"leftKnee_score\", \"rightKnee_score\",\n",
    "                  \"leftAnkle_score\",\n",
    "                  \"rightAnkle_score\"]\n",
    "columns_to_retain = [\"nose_x\", \"nose_y\", \"leftEye_x\", \"leftEye_y\", \"rightEye_x\", \"rightEye_y\", \"leftEar_x\", \"leftEar_y\",\n",
    "                     \"rightEar_x\", \"rightEar_y\", \"leftShoulder_x\", \"leftShoulder_y\", \"rightShoulder_x\",\n",
    "                     \"rightShoulder_y\", \"leftElbow_x\", \"leftElbow_y\", \"rightElbow_x\", \"rightElbow_y\", \"leftWrist_x\",\n",
    "                     \"leftWrist_y\", \"rightWrist_x\", \"rightWrist_y\", \"leftHip_x\", \"leftHip_y\", \"rightHip_x\",\n",
    "                     \"rightHip_y\", \"leftKnee_x\", \"leftKnee_y\", \"rightKnee_x\", \"rightKnee_y\", \"leftAnkle_x\",\n",
    "                     \"leftAnkle_y\", \"rightAnkle_x\", \"rightAnkle_y\"]\n",
    "arr = numpy.empty((0, 52), float)\n",
    "total_rows = 150\n",
    "label_count = 0\n",
    "final_data = pd.DataFrame()\n",
    "\n",
    "\n",
    "def progress(total, count, folder_name):\n",
    "    percent = (count / total) * 100\n",
    "    print('\\r', \"%.2f\" % round(percent, 2) + \"% '\" + folder_name + \"' completed\", end=' ')\n",
    "\n",
    "\n",
    "for category in categories:\n",
    "    temp_data = pd.DataFrame(columns=columns_to_retain)\n",
    "    path = os.path.join(master_path, category)\n",
    "    total_files = len(os.listdir(str(path)))\n",
    "    i = 1\n",
    "    progress(1, 100, category)\n",
    "    for file in os.listdir(str(path)):\n",
    "        data = pd.read_csv(os.path.join(path, file))\n",
    "        data.drop(column_to_drop, axis=1, inplace=True)\n",
    "        while data.shape[0] < total_rows:\n",
    "            data = data.append(data, ignore_index=True)\n",
    "        shape = data.shape\n",
    "        if shape[0] > total_rows:\n",
    "            data = data[:150]\n",
    "        temp_data = temp_data.append(data, ignore_index=True)\n",
    "        percent = (i / total_files) * 100\n",
    "        print('\\r', \"%.2f\" % round(percent, 2) + \"% '\" + category + \"' completed\", end=' ')\n",
    "        i += 1\n",
    "    print()\n",
    "\n",
    "    result = temp_data.values\n",
    "\n",
    "    labels = numpy.append(labels, numpy.full((1, result.shape[0]), label_count))\n",
    "    # print(pca_result.shape)\n",
    "    final_data = final_data.append(pd.DataFrame(result), ignore_index=True)\n",
    "    label_count += 1\n",
    "    # print(labels.shape)\n",
    "\n",
    "print()\n",
    "print(\"Applying PCA\")\n",
    "result = final_data.values\n",
    "scaler = preprocessing.StandardScaler()\n",
    "scaler.fit(result)\n",
    "scaled_result = scaler.transform(result)\n",
    "pca = decomposition.PCA(n_components=25)\n",
    "pca.fit(scaled_result)\n",
    "pca_result = pca.transform(scaled_result)\n",
    "print(\"Applied PCA\")\n",
    "\n",
    "print(\"Preparing the test data\")\n",
    "test_size = 0.33\n",
    "# seed = 7\n",
    "X_train, X_test, Y_train, Y_test = model_selection.train_test_split(pca_result, labels, test_size=test_size,\n",
    "                                                                    random_state=4)\n",
    "print(\"Test data prepared. Go ahead and train you model\")"
   ]
  },
  {
   "cell_type": "code",
   "execution_count": 4,
   "metadata": {},
   "outputs": [
    {
     "name": "stdout",
     "output_type": "stream",
     "text": [
      "Training using Logistic Regression...\n",
      "Logistic Regression Accuracy: 76.221%\n",
      "Training Complete\n"
     ]
    }
   ],
   "source": [
    "print(\"Training using Logistic Regression...\")\n",
    "\n",
    "model = LogisticRegression(max_iter=1000)\n",
    "model.fit(X_train, Y_train)\n",
    "lrPickle = open('../models/logistic_regression_file', 'wb')\n",
    "# source, destination\n",
    "pickle.dump(model, lrPickle)\n",
    "result = model.score(X_test, Y_test)\n",
    "print(\"Logistic Regression Accuracy: %.3f%%\" % (result * 100.0))\n",
    "print(\"Training Complete\")"
   ]
  },
  {
   "cell_type": "code",
   "execution_count": 5,
   "metadata": {},
   "outputs": [
    {
     "name": "stdout",
     "output_type": "stream",
     "text": [
      "Training using KNeighbour Classifier...\n",
      "KNN Accuracy: 87.538%\n",
      "Training Complete\n"
     ]
    }
   ],
   "source": [
    "print(\"Training using KNeighbour Classifier...\")\n",
    "\n",
    "knn = KNeighborsClassifier(n_neighbors=200)\n",
    "knn.fit(X_train, Y_train)\n",
    "y_pred = knn.predict(X_test)\n",
    "knnPickle = open('../models/knnpickle_file', 'wb')\n",
    "# source, destination\n",
    "pickle.dump(knn, knnPickle)\n",
    "\n",
    "print(\"KNN Accuracy: %.3f%%\" % (metrics.accuracy_score(Y_test, y_pred) * 100))\n",
    "print(\"Training Complete\")"
   ]
  },
  {
   "cell_type": "code",
   "execution_count": 13,
   "metadata": {},
   "outputs": [
    {
     "name": "stdout",
     "output_type": "stream",
     "text": [
      "Training using Random Forest Classifier...\n",
      "Random Forest Accuracy: 96.519%\n",
      "Training Complete\n"
     ]
    }
   ],
   "source": [
    "print(\"Training using Random Forest Classifier...\")\n",
    "\n",
    "rf = RandomForestClassifier(max_depth=10, random_state=0)\n",
    "rf.fit(X_train, Y_train)\n",
    "y_pred = rf.predict(X_test)\n",
    "rfPickle = open('../models/rfpickle_file', 'wb')\n",
    "# source, destination\n",
    "pickle.dump(rf, rfPickle)\n",
    "\n",
    "print(\"Random Forest Accuracy: %.3f%%\" % (metrics.accuracy_score(Y_test, y_pred) * 100))\n",
    "print(\"Training Complete\")"
   ]
  },
  {
   "cell_type": "code",
   "execution_count": null,
   "metadata": {},
   "outputs": [],
   "source": []
  }
 ],
 "metadata": {
  "kernelspec": {
   "display_name": "Python 3",
   "language": "python",
   "name": "python3"
  },
  "language_info": {
   "codemirror_mode": {
    "name": "ipython",
    "version": 3
   },
   "file_extension": ".py",
   "mimetype": "text/x-python",
   "name": "python",
   "nbconvert_exporter": "python",
   "pygments_lexer": "ipython3",
   "version": "3.7.6"
  }
 },
 "nbformat": 4,
 "nbformat_minor": 4
}
